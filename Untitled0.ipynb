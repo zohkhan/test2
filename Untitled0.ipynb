{
  "nbformat": 4,
  "nbformat_minor": 0,
  "metadata": {
    "colab": {
      "provenance": [],
      "authorship_tag": "ABX9TyM4cMzHeWHyjjs2OYHTKY8b",
      "include_colab_link": true
    },
    "kernelspec": {
      "name": "python3",
      "display_name": "Python 3"
    },
    "language_info": {
      "name": "python"
    }
  },
  "cells": [
    {
      "cell_type": "markdown",
      "metadata": {
        "id": "view-in-github",
        "colab_type": "text"
      },
      "source": [
        "<a href=\"https://colab.research.google.com/github/zohkhan/test2/blob/main/Untitled0.ipynb\" target=\"_parent\"><img src=\"https://colab.research.google.com/assets/colab-badge.svg\" alt=\"Open In Colab\"/></a>"
      ]
    },
    {
      "cell_type": "code",
      "execution_count": 2,
      "metadata": {
        "colab": {
          "base_uri": "https://localhost:8080/"
        },
        "id": "79KGh_wLfvLa",
        "outputId": "4a87dd77-95c0-47c9-d249-b74224f654bc"
      },
      "outputs": [
        {
          "output_type": "stream",
          "name": "stdout",
          "text": [
            "env: spark_version=3.0.1\n",
            "env: hadoop_version=2.7\n",
            "env: jdk_version=8u222-b10\n",
            "Python 3.7.15\n"
          ]
        }
      ],
      "source": [
        "%env spark_version=3.0.1\n",
        "%env hadoop_version=2.7\n",
        "%env jdk_version=8u222-b10\n",
        "\n",
        "# innstall java\n",
        "!wget -q https://github.com/AdoptOpenJDK/openjdk8-binaries/releases/download/jdk${jdk_version}/OpenJDK8U-jdk_x64_linux_hotspot_${jdk_version/-/}.tar.gz\n",
        "!tar -xf OpenJDK8U-jdk_x64_linux_hotspot_${jdk_version/-/}.tar.gz\n",
        "\n",
        "#!apt-get install openjdk-8-jdk-headless -qq > /dev/null\n",
        "# install spark (change the version number if needed)\n",
        "#!wget -q https://www-us.apache.org/dist/spark/spark-${spark_version}/spark-${spark_version}-bin-hadoop${hadoop_version}.tgz\n",
        "!wget -q https://archive.apache.org/dist/spark/spark-${spark_version}/spark-${spark_version}-bin-hadoop${hadoop_version}.tgz\n",
        "!tar xf spark-${spark_version}-bin-hadoop${hadoop_version}.tgz\n",
        "\n",
        "!python --version\n"
      ]
    },
    {
      "cell_type": "code",
      "source": [],
      "metadata": {
        "id": "ChCUglDVbqMb"
      },
      "execution_count": 1,
      "outputs": []
    },
    {
      "cell_type": "code",
      "source": [
        "import os\n",
        "\n",
        "current_directory = os.getcwd()\n",
        "print(current_directory)\n",
        "\n",
        "os.environ[\"JAVA_HOME\"] = \"{}/jdk{}\".format(current_directory, os.environ[\"jdk_version\"])   #\"/usr/lib/jvm/java-8-openjdk-amd64\"\n",
        "os.environ[\"SPARK_HOME\"] = \"{}/spark-{}-bin-hadoop{}\".format(current_directory, os.environ[\"spark_version\"], os.environ[\"hadoop_version\"])"
      ],
      "metadata": {
        "colab": {
          "base_uri": "https://localhost:8080/"
        },
        "id": "799asBtOf7G3",
        "outputId": "c2bd79b4-596f-49f3-c19e-f9cc5be5b9a3"
      },
      "execution_count": 3,
      "outputs": [
        {
          "output_type": "stream",
          "name": "stdout",
          "text": [
            "/content\n"
          ]
        }
      ]
    },
    {
      "cell_type": "code",
      "source": [
        "!pip install PyArrow"
      ],
      "metadata": {
        "colab": {
          "base_uri": "https://localhost:8080/"
        },
        "id": "WAk3wRpzkXTF",
        "outputId": "a913b137-a892-41ac-a6e8-8fc595d33597"
      },
      "execution_count": 3,
      "outputs": [
        {
          "output_type": "stream",
          "name": "stdout",
          "text": [
            "Looking in indexes: https://pypi.org/simple, https://us-python.pkg.dev/colab-wheels/public/simple/\n",
            "Requirement already satisfied: PyArrow in /usr/local/lib/python3.7/dist-packages (9.0.0)\n",
            "Requirement already satisfied: numpy>=1.16.6 in /usr/local/lib/python3.7/dist-packages (from PyArrow) (1.21.6)\n"
          ]
        }
      ]
    },
    {
      "cell_type": "code",
      "source": [
        "!pip install findspark\n",
        "!pip install pyspark\n"
      ],
      "metadata": {
        "colab": {
          "base_uri": "https://localhost:8080/"
        },
        "id": "JlB9r-pVgfaI",
        "outputId": "f5431557-ffcd-4d16-bb20-8d17aeffadd0"
      },
      "execution_count": 5,
      "outputs": [
        {
          "output_type": "stream",
          "name": "stdout",
          "text": [
            "Looking in indexes: https://pypi.org/simple, https://us-python.pkg.dev/colab-wheels/public/simple/\n",
            "Collecting findspark\n",
            "  Downloading findspark-2.0.1-py2.py3-none-any.whl (4.4 kB)\n",
            "Installing collected packages: findspark\n",
            "Successfully installed findspark-2.0.1\n",
            "Looking in indexes: https://pypi.org/simple, https://us-python.pkg.dev/colab-wheels/public/simple/\n",
            "Collecting pyspark\n",
            "  Downloading pyspark-3.3.1.tar.gz (281.4 MB)\n",
            "\u001b[K     |████████████████████████████████| 281.4 MB 44 kB/s \n",
            "\u001b[?25hCollecting py4j==0.10.9.5\n",
            "  Downloading py4j-0.10.9.5-py2.py3-none-any.whl (199 kB)\n",
            "\u001b[K     |████████████████████████████████| 199 kB 44.0 MB/s \n",
            "\u001b[?25hBuilding wheels for collected packages: pyspark\n",
            "  Building wheel for pyspark (setup.py) ... \u001b[?25l\u001b[?25hdone\n",
            "  Created wheel for pyspark: filename=pyspark-3.3.1-py2.py3-none-any.whl size=281845512 sha256=2ba59af3b26cd465ae33c3724c8129484ee6f2a5ee43c956d7ca2af3d59d80d8\n",
            "  Stored in directory: /root/.cache/pip/wheels/42/59/f5/79a5bf931714dcd201b26025347785f087370a10a3329a899c\n",
            "Successfully built pyspark\n",
            "Installing collected packages: py4j, pyspark\n",
            "Successfully installed py4j-0.10.9.5 pyspark-3.3.1\n"
          ]
        }
      ]
    },
    {
      "cell_type": "code",
      "source": [
        "import findspark\n",
        "findspark.init() # os.environ[\"SPARK_HOME\"]\n",
        "\n",
        "from pyspark import SparkConf\n",
        "from pyspark.sql import SparkSession\n",
        "# create SparkConf\n",
        "conf = SparkConf().setAppName('pyspark-app').setMaster('local[*]')\n",
        "# create SparkSession instance\n",
        "spark = SparkSession.builder.config(conf=conf).getOrCreate()\n",
        "spark"
      ],
      "metadata": {
        "colab": {
          "base_uri": "https://localhost:8080/",
          "height": 219
        },
        "id": "lJ25dvBFlLym",
        "outputId": "f784ddec-18ce-43b1-a95f-8182727dca97"
      },
      "execution_count": 6,
      "outputs": [
        {
          "output_type": "execute_result",
          "data": {
            "text/plain": [
              "<pyspark.sql.session.SparkSession at 0x7f3b751861d0>"
            ],
            "text/html": [
              "\n",
              "            <div>\n",
              "                <p><b>SparkSession - in-memory</b></p>\n",
              "                \n",
              "        <div>\n",
              "            <p><b>SparkContext</b></p>\n",
              "\n",
              "            <p><a href=\"http://98b82369c5bf:4040\">Spark UI</a></p>\n",
              "\n",
              "            <dl>\n",
              "              <dt>Version</dt>\n",
              "                <dd><code>v3.0.1</code></dd>\n",
              "              <dt>Master</dt>\n",
              "                <dd><code>local[*]</code></dd>\n",
              "              <dt>AppName</dt>\n",
              "                <dd><code>pyspark-app</code></dd>\n",
              "            </dl>\n",
              "        </div>\n",
              "        \n",
              "            </div>\n",
              "        "
            ]
          },
          "metadata": {},
          "execution_count": 6
        }
      ]
    },
    {
      "cell_type": "code",
      "source": [
        "# download data\n",
        "\n",
        "import requests\n",
        "\n",
        "url = \"https://archive.ics.uci.edu/ml/machine-learning-databases/parkinsons/\"\n",
        "parkinsons_file = \"parkinsons.data\"\n",
        "\n",
        "r = requests.get(url + parkinsons_file)\n",
        "open(parkinsons_file, 'wb').write(r.content)\n",
        "\n",
        "\n",
        "\n"
      ],
      "metadata": {
        "colab": {
          "base_uri": "https://localhost:8080/"
        },
        "id": "6rDN0TEzm3k2",
        "outputId": "c1853bd6-4037-43ac-ef62-ec68055b8192"
      },
      "execution_count": 7,
      "outputs": [
        {
          "output_type": "execute_result",
          "data": {
            "text/plain": [
              "40697"
            ]
          },
          "metadata": {},
          "execution_count": 7
        }
      ]
    },
    {
      "cell_type": "code",
      "source": [
        "from pyspark.sql import SparkSession\n",
        "  \n",
        "spark = SparkSession.builder.appName(parkinsons_file).getOrCreate()\n",
        "\n",
        "df = spark.read.text(parkinsons_file)\n",
        "print(df)\n",
        "  "
      ],
      "metadata": {
        "colab": {
          "base_uri": "https://localhost:8080/"
        },
        "id": "KK7MPrI89AWy",
        "outputId": "cdad7d44-e8e6-4e73-c48b-e21fc610ee9f"
      },
      "execution_count": 8,
      "outputs": [
        {
          "output_type": "stream",
          "name": "stdout",
          "text": [
            "DataFrame[value: string]\n"
          ]
        }
      ]
    },
    {
      "cell_type": "code",
      "source": [
        "df = spark.read.csv(parkinsons_file, header=True, inferSchema=True)\n",
        "df.show(5)\n"
      ],
      "metadata": {
        "colab": {
          "base_uri": "https://localhost:8080/"
        },
        "id": "N3QbbCS2nO76",
        "outputId": "f24175a0-95d4-44c2-c715-d599df20dda3"
      },
      "execution_count": 11,
      "outputs": [
        {
          "output_type": "stream",
          "name": "stdout",
          "text": [
            "+--------------+-----------+------------+------------+--------------+----------------+--------+--------+----------+------------+----------------+------------+------------+--------+-----------+-------+------+------+--------+--------+---------+--------+--------+--------+\n",
            "|          name|MDVP:Fo(Hz)|MDVP:Fhi(Hz)|MDVP:Flo(Hz)|MDVP:Jitter(%)|MDVP:Jitter(Abs)|MDVP:RAP|MDVP:PPQ|Jitter:DDP|MDVP:Shimmer|MDVP:Shimmer(dB)|Shimmer:APQ3|Shimmer:APQ5|MDVP:APQ|Shimmer:DDA|    NHR|   HNR|status|    RPDE|     DFA|  spread1| spread2|      D2|     PPE|\n",
            "+--------------+-----------+------------+------------+--------------+----------------+--------+--------+----------+------------+----------------+------------+------------+--------+-----------+-------+------+------+--------+--------+---------+--------+--------+--------+\n",
            "|phon_R01_S01_1|    119.992|     157.302|      74.997|       0.00784|          7.0E-5|  0.0037| 0.00554|   0.01109|     0.04374|           0.426|     0.02182|      0.0313| 0.02971|    0.06545|0.02211|21.033|     1|0.414783|0.815285|-4.813031|0.266482|2.301442|0.284654|\n",
            "|phon_R01_S01_2|      122.4|      148.65|     113.819|       0.00968|          8.0E-5| 0.00465| 0.00696|   0.01394|     0.06134|           0.626|     0.03134|     0.04518| 0.04368|    0.09403|0.01929|19.085|     1|0.458359|0.819521|-4.075192| 0.33559|2.486855|0.368674|\n",
            "|phon_R01_S01_3|    116.682|     131.111|     111.555|        0.0105|          9.0E-5| 0.00544| 0.00781|   0.01633|     0.05233|           0.482|     0.02757|     0.03858|  0.0359|     0.0827|0.01309|20.651|     1|0.429895|0.825288|-4.443179|0.311173|2.342259|0.332634|\n",
            "|phon_R01_S01_4|    116.676|     137.871|     111.366|       0.00997|          9.0E-5| 0.00502| 0.00698|   0.01505|     0.05492|           0.517|     0.02924|     0.04005| 0.03772|    0.08771|0.01353|20.644|     1|0.434969|0.819235|-4.117501|0.334147|2.405554|0.368975|\n",
            "|phon_R01_S01_5|    116.014|     141.781|     110.655|       0.01284|          1.1E-4| 0.00655| 0.00908|   0.01966|     0.06425|           0.584|      0.0349|     0.04825| 0.04465|     0.1047|0.01767|19.649|     1|0.417356|0.823484|-3.747787|0.234513| 2.33218|0.410335|\n",
            "+--------------+-----------+------------+------------+--------------+----------------+--------+--------+----------+------------+----------------+------------+------------+--------+-----------+-------+------+------+--------+--------+---------+--------+--------+--------+\n",
            "only showing top 5 rows\n",
            "\n"
          ]
        }
      ]
    },
    {
      "cell_type": "code",
      "source": [
        "df.describe().show()"
      ],
      "metadata": {
        "colab": {
          "base_uri": "https://localhost:8080/"
        },
        "id": "XPwupnMAj1WX",
        "outputId": "93de7dd2-7688-4b99-b2f2-b16b00da6800"
      },
      "execution_count": 12,
      "outputs": [
        {
          "output_type": "stream",
          "name": "stdout",
          "text": [
            "+-------+--------------+------------------+-----------------+------------------+--------------------+--------------------+--------------------+--------------------+--------------------+--------------------+-------------------+--------------------+--------------------+--------------------+--------------------+--------------------+------------------+------------------+-------------------+-------------------+------------------+-------------------+-------------------+-------------------+\n",
            "|summary|          name|       MDVP:Fo(Hz)|     MDVP:Fhi(Hz)|      MDVP:Flo(Hz)|      MDVP:Jitter(%)|    MDVP:Jitter(Abs)|            MDVP:RAP|            MDVP:PPQ|          Jitter:DDP|        MDVP:Shimmer|   MDVP:Shimmer(dB)|        Shimmer:APQ3|        Shimmer:APQ5|            MDVP:APQ|         Shimmer:DDA|                 NHR|               HNR|            status|               RPDE|                DFA|           spread1|            spread2|                 D2|                PPE|\n",
            "+-------+--------------+------------------+-----------------+------------------+--------------------+--------------------+--------------------+--------------------+--------------------+--------------------+-------------------+--------------------+--------------------+--------------------+--------------------+--------------------+------------------+------------------+-------------------+-------------------+------------------+-------------------+-------------------+-------------------+\n",
            "|  count|           195|               195|              195|               195|                 195|                 195|                 195|                 195|                 195|                 195|                195|                 195|                 195|                 195|                 195|                 195|               195|               195|                195|                195|               195|                195|                195|                195|\n",
            "|   mean|          null|154.22864102564105| 197.104917948718|116.32463076923077|0.006220461538461542|4.395897435897438E-5|0.003306410256410...|0.003446358974358...|0.009919948717948712|  0.0297091282051282| 0.2822512820512821|0.015664153846153845|0.017878256410256418| 0.02408148717948718| 0.04699261538461537|0.024847076923076923|21.885974358974366|0.7538461538461538|0.49853553846153836| 0.7180990461538465|-5.684396743589743|0.22651034871794856| 2.3818260871794874|0.20655164102564105|\n",
            "| stddev|          null| 41.39006474907147|91.49154763503034| 43.52141318199366|0.004848133692602559|3.482190859976327E-5|0.002967774416201...| 0.00275897664696793|0.008903344355858987|0.018856931858946806|0.19487729006053411|0.010153161595709014|0.012023705538741724|0.016946736247029436|0.030459119431240404|0.040418448556069284| 4.425764269063426|0.4318780337122647|0.10394171413073464|0.05533583034659674| 1.090207763740309|0.08340576262039777|0.38279904654611674|0.09011932248227507|\n",
            "|    min|phon_R01_S01_1|            88.333|          102.145|            65.476|             0.00168|              7.0E-6|              6.8E-4|              9.2E-4|             0.00204|             0.00954|              0.085|             0.00455|              0.0057|             0.00719|             0.01364|              6.5E-4|             8.441|                 0|            0.25657|           0.574282|         -7.964984|           0.006274|           1.423287|           0.044539|\n",
            "|    max|phon_R01_S50_6|           260.105|           592.03|            239.17|             0.03316|              2.6E-4|             0.02144|             0.01958|             0.06433|             0.11908|              1.302|             0.05647|              0.0794|             0.13778|             0.16942|             0.31482|            33.047|                 1|           0.685151|           0.825288|         -2.434031|           0.450493|           3.671155|           0.527367|\n",
            "+-------+--------------+------------------+-----------------+------------------+--------------------+--------------------+--------------------+--------------------+--------------------+--------------------+-------------------+--------------------+--------------------+--------------------+--------------------+--------------------+------------------+------------------+-------------------+-------------------+------------------+-------------------+-------------------+-------------------+\n",
            "\n"
          ]
        }
      ]
    }
  ]
}